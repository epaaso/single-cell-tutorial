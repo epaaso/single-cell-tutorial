{
 "cells": [
  {
   "cell_type": "code",
   "execution_count": 4,
   "id": "131a3ec9-82a5-4f54-8dae-9bd3b7660cd4",
   "metadata": {},
   "outputs": [],
   "source": [
    "import sys\n",
    "from Bio import SeqIO\n",
    "from Bio.Seq import Seq\n",
    "from Bio.SeqRecord import SeqRecord"
   ]
  },
  {
   "cell_type": "code",
   "execution_count": null,
   "id": "71a70aff-4d59-4898-85cb-b2f7ff88ac44",
   "metadata": {},
   "outputs": [],
   "source": [
    "cb_fastq = '/root/datos/maestria/netopaas/lung_scRNA/E-MTAB-6149/1247.R2.fastq'\n",
    "umi_fastq = '/root/datos/maestria/netopaas/lung_scRNA/E-MTAB-6149/1247.R3.fastq'\n",
    "\n",
    "Rd_out = open()"
   ]
  },
  {
   "cell_type": "markdown",
   "id": "088d95cf-f1c4-4ebc-9a29-45c7c2d1ea46",
   "metadata": {},
   "source": [
    "Nos basamos en lo contrario de lo que queremos hacer, separar un interleaved fastq con SeqIO de BioPython"
   ]
  },
  {
   "cell_type": "code",
   "execution_count": null,
   "id": "f90c1ec1-c7ec-4181-9551-58ed99e007a6",
   "metadata": {},
   "outputs": [],
   "source": [
    "# Solo como referencia\n",
    "def main(fastq):\n",
    "\n",
    "    Rd1_out_name = fastq.replace(\".fastq\", \"Rd1.fastq\")\n",
    "    Rd2_out_name = fastq.replace(\".fastq\", \"Rd2.fastq\")\n",
    "    Rd1_out = open(Rd1_out_name, 'w')\n",
    "    Rd2_out = open(Rd2_out_name, 'w')\n",
    "\n",
    "    for record in SeqIO.parse(fastq, \"fastq\"):\n",
    "\n",
    "        seq = str(record.seq)\n",
    "        Rd1_seq = seq[:len(seq)/2]\n",
    "        Rd2_seq = seq[len(seq)/2:]                                  \n",
    "        Q = record.letter_annotations[\"phred_quality\"]\n",
    "        Rd1_Q = Q[:len(Q)/2]\n",
    "        Rd2_Q = Q[len(Q)/2:]            \n",
    "        Rd1_id = record.id.strip(\"/1\").strip(\"/2\") + \"/1\"\n",
    "        Rd2_id = record.id.strip(\"/1\").strip(\"/2\") + \"/2\"\n",
    "\n",
    "        Rd1 = SeqRecord( Rd1_seq , id = Rd1_id, description = \"\" )\n",
    "        Rd1.letter_annotations[\"phred_quality\"] = Rd1_Q         \n",
    "        Rd2 = SeqRecord( Rd2_seq , id = Rd2_id, description = \"\" )\n",
    "        Rd2.letter_annotations[\"phred_quality\"] = Rd2_Q\n",
    "\n",
    "        Rd1_out.write(Rd1.format(\"fastq\"),)\n",
    "        Rd2_out.write(Rd2.format(\"fastq\"),)\n"
   ]
  }
 ],
 "metadata": {
  "kernelspec": {
   "display_name": "Python 3 (ipykernel)",
   "language": "python",
   "name": "python3"
  },
  "language_info": {
   "codemirror_mode": {
    "name": "ipython",
    "version": 3
   },
   "file_extension": ".py",
   "mimetype": "text/x-python",
   "name": "python",
   "nbconvert_exporter": "python",
   "pygments_lexer": "ipython3",
   "version": "3.8.12"
  }
 },
 "nbformat": 4,
 "nbformat_minor": 5
}
